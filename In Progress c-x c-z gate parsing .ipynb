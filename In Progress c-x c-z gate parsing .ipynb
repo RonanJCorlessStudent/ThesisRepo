{
 "cells": [
  {
   "cell_type": "code",
   "execution_count": null,
   "metadata": {},
   "outputs": [],
   "source": [
    "if name in (\"c-x\",\"c-z\"):\n",
    "    rest = rest.split(\"],\")\n",
    "    controlbinary = []\n",
    "    targetqubit = []\n",
    "    binarylisttrue = []\n",
    "    for i in range(len(rest)):\n",
    "        if rest[i].count(\"b\") == 1:\n",
    "            rest[i] = rest[i].split(\"[\")[1]\n",
    "            rest[i] = rest[i].split(\"]\")[0]\n",
    "            rest[i] = rest[i].split(\",\") \n",
    "            controlbinary.append(rest[i])\n",
    "        elif rest[i].count(\"q\") == 1:\n",
    "            rest[i] = rest[i].split(\"[\")[1]\n",
    "            rest[i] = rest[i].split(\"]\")[0]\n",
    "            rest[i] = rest[i].split(\",\") \n",
    "            targetqubit.append(rest[i])\n",
    "    for l in range(len(controlbinary)):\n",
    "        binarylist =[]\n",
    "        if controlbinary[l].count(\":\") == 0:\n",
    "            binarylist.append(int(controlbinary[l])[0])\n",
    "        else:\n",
    "            firstside = (controlbinary[l].split(\":\")[0])[-1]\n",
    "            secondside = (controlbinary[l].split(\":\")[1])[0]\n",
    "            for k in range(int(firstside),int(secondside)+1):\n",
    "                    binarylist.append(int(k))\n",
    "            binarylist = [int(i) for i in binarylist]\n",
    "            for i in binarylist:\n",
    "                if i not in binarylisttrue:\n",
    "                    binarylisttrue.append(i)\n",
    "    "
   ]
  },
  {
   "cell_type": "code",
   "execution_count": 25,
   "metadata": {},
   "outputs": [
    {
     "name": "stdout",
     "output_type": "stream",
     "text": [
      "[0, 2, 3, 4] [1]\n"
     ]
    }
   ],
   "source": [
    "rest = \"b[0],b[2:4],q[1]\"\n",
    "rest = rest.split(\"],\")\n",
    "controlbinary = []\n",
    "targetqubit = []\n",
    "binarylisttrue = []\n",
    "targetlisttrue = []\n",
    "for i in range(len(rest)):\n",
    "    if rest[i].count(\"b\") == 1:\n",
    "        rest[i] = rest[i].split(\"[\")[1]\n",
    "        rest[i] = rest[i].split(\"]\")[0]\n",
    "        rest[i] = rest[i].split(\",\") \n",
    "        controlbinary.append(rest[i])\n",
    "    elif rest[i].count(\"q\") == 1:\n",
    "        rest[i] = rest[i].split(\"[\")[1]\n",
    "        rest[i] = rest[i].split(\"]\")[0]\n",
    "        rest[i] = rest[i].split(\",\")\n",
    "        targetqubit.append(rest[i])\n",
    "for l in range(len(controlbinary)):\n",
    "    binarylist =[]\n",
    "    if (controlbinary[l])[0].count(\":\") == 0:\n",
    "        binarylist.append(int((controlbinary[l])[0]))\n",
    "    else:\n",
    "        firstside = ((controlbinary[l])[0].split(\":\")[0])[-1]\n",
    "        secondside = ((controlbinary[l])[0].split(\":\")[1])[0]\n",
    "        for k in range(int(firstside),int(secondside)+1):\n",
    "                binarylist.append(int(k))\n",
    "        binarylist = [int(i) for i in binarylist]\n",
    "    for i in binarylist:\n",
    "        if i not in binarylisttrue:\n",
    "            binarylisttrue.append(i)\n",
    "                \n",
    "for l in range(len(targetqubit)):\n",
    "    targetlist = []\n",
    "    if (targetqubit[l])[0].count(\":\") == 0:\n",
    "        targetlist.append(int((targetqubit[l])[0]))\n",
    "    else:\n",
    "        firstside = ((targetqubit[l])[0].split(\":\")[0])[-1]\n",
    "        secondside = ((targetqubit[l])[0].split(\":\")[1])[0]\n",
    "        for k in range(int(firstside),int(secondside)+1):\n",
    "                targetlist.append(int(k))\n",
    "        targetlist = [int(i) for i in targetlist]\n",
    "    for i in targetlist:\n",
    "        if i not in targetlisttrue:\n",
    "            targetlisttrue.append(i)\n",
    "    print(binarylisttrue, targetlisttrue)"
   ]
  },
  {
   "cell_type": "code",
   "execution_count": null,
   "metadata": {},
   "outputs": [],
   "source": []
  }
 ],
 "metadata": {
  "interpreter": {
   "hash": "a79884e4834f91c0f0d15c7cb696c21d631703e5abf58afc10bb48a5532883fa"
  },
  "kernelspec": {
   "display_name": "Python 3.9.7 64-bit",
   "language": "python",
   "name": "python3"
  },
  "language_info": {
   "name": "python",
   "version": "3.9.7"
  },
  "orig_nbformat": 4
 },
 "nbformat": 4,
 "nbformat_minor": 2
}
