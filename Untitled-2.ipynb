{
 "cells": [
  {
   "cell_type": "code",
   "execution_count": null,
   "metadata": {},
   "outputs": [],
   "source": [
    "         \n",
    "### we know have the qubits affected by this 1 qubit gate \n",
    "### next up we have to look at the 1 qubit gates that already exist in cqasm\n",
    "            for q in qlisttrue:\n",
    "                if name in (\"x\",\"z\",\"s\",\"t\",\"h\",\"sdag\",\"tdag\",\"h\"): \n",
    "                    if name in ('sdag'):\n",
    "                        g = qasm_gate_table[\"sdg\"](q)\n",
    "                    elif name in (\"tdag\"):\n",
    "                        g = qasm_gate_table[\"tdg\"](q)\n",
    "                    else:\n",
    "                        g = qasm_gate_table[name](q)\n",
    "                gates.append(g)\n",
    "            if rest.count(\"q[\") == 2:\n",
    "                for j in range(len(rest2)):   "
   ]
  },
  {
   "cell_type": "code",
   "execution_count": null,
   "metadata": {},
   "outputs": [],
   "source": [
    "if rest.count(\"q[\") != 0: ###for where there ARE qubits\n",
    "            for i in range(rest.count(\"q[\")):\n",
    "                rest2 = rest.split(\"q\")\n",
    "                rest2.pop(0)\n",
    "            if rest.count(\"q[\") == 1:\n",
    "                for j in range(len(rest2)):\n",
    "                    rest[j] = rest[j].split(\"[\")[1]\n",
    "                    rest[j] = rest2[j].split(\"]\")[0]\n",
    "                    rest2[j] = rest2[j].split(\",\") \n",
    "#above commands strip the numbers inside the square brackets,& split at the comma\n",
    "                for l in range(len(rest2[j])):\n",
    "                    if rest2[j][l].count(\":\") == 0:\n",
    "                        qlist.append(rest2[j][]l)\n",
    "                    else: \n",
    "                        firstside = (rest2[j][l].split(\":\")[0])[-1]\n",
    "                        secondside = (rest2[j][l].split(\":\")[1])[0]\n",
    "                        for k in range(int(firstside),int(secondside)+1):\n",
    "                            qlist.append(k)\n",
    "            qlist = [int(i) for i in qlist]\n",
    "            for i in qlist:\n",
    "                if i not in qlisttrue:\n",
    "                    qlisttrue.append(i)  \n",
    "            qlisttrue.sort()           "
   ]
  },
  {
   "cell_type": "code",
   "execution_count": null,
   "metadata": {},
   "outputs": [],
   "source": [
    "### 1 qubit gates\n",
    "if name in (\"x\",\"z\",\"s\",\"t\",\"h\",\"sdag\",\"tdag\",\"h\"):\n",
    "    if rest.count(\"q[\") != 0: ###for where there ARE qubits\n",
    "            if rest.count(\"q[\") == 1:\n",
    "                for j in range(len(rest2)):\n",
    "                    rest = rest.split(\"[\")[1]\n",
    "                    rest = rest.split(\"]\")[0]\n",
    "                    rest = rest.split(\",\") \n",
    "#above commands strip the numbers inside the square brackets,& split at the comma\n",
    "                for l in range(len(rest)):\n",
    "                    if rest[l].count(\":\") == 0:\n",
    "                        qlist.append(rest[l])\n",
    "                    else: \n",
    "                        firstside = (rest[l].split(\":\")[0])[-1]\n",
    "                        secondside = (rest[l].split(\":\")[1])[0]\n",
    "                        for k in range(int(firstside),int(secondside)+1):\n",
    "                            qlist.append(k)\n",
    "            qlist = [int(i) for i in qlist]\n",
    "            for i in qlist:\n",
    "                if i not in qlisttrue:\n",
    "                    qlisttrue.append(i)  \n",
    "            qlisttrue.sort() \n",
    "for i in qlisttrue:\n",
    "    if name in ('sdag'):\n",
    "        g = qasm_gate_table[\"sdg\"](i)\n",
    "    elif name in (\"tdag\"):\n",
    "        g = qasm_gate_table[\"tdg\"](i)\n",
    "    else:\n",
    "        g = qasm_gate_table[name](i)\n",
    "    gates.append(g)"
   ]
  }
 ],
 "metadata": {
  "interpreter": {
   "hash": "a79884e4834f91c0f0d15c7cb696c21d631703e5abf58afc10bb48a5532883fa"
  },
  "kernelspec": {
   "display_name": "Python 3.9.7 64-bit",
   "language": "python",
   "name": "python3"
  },
  "language_info": {
   "name": "python",
   "version": "3.9.7"
  },
  "orig_nbformat": 4
 },
 "nbformat": 4,
 "nbformat_minor": 2
}
