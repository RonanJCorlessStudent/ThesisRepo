{
 "cells": [
  {
   "cell_type": "code",
   "execution_count": 42,
   "metadata": {},
   "outputs": [],
   "source": [
    "import pyzx as zx\n",
    "import matplotlib as plt\n",
    "import numpy as np\n",
    "from IPython.display import display\n",
    "from fractions import Fraction"
   ]
  },
  {
   "cell_type": "code",
   "execution_count": 46,
   "metadata": {},
   "outputs": [
    {
     "data": {
      "image/svg+xml": "<?xml version=\"1.0\" encoding=\"utf-8\" standalone=\"no\"?>\r\n<!DOCTYPE svg PUBLIC \"-//W3C//DTD SVG 1.1//EN\"\r\n  \"http://www.w3.org/Graphics/SVG/1.1/DTD/svg11.dtd\">\r\n<svg height=\"36pt\" version=\"1.1\" viewBox=\"0 0 86.4 36\" width=\"86.4pt\" xmlns=\"http://www.w3.org/2000/svg\" xmlns:xlink=\"http://www.w3.org/1999/xlink\">\r\n <metadata>\r\n  <rdf:RDF xmlns:cc=\"http://creativecommons.org/ns#\" xmlns:dc=\"http://purl.org/dc/elements/1.1/\" xmlns:rdf=\"http://www.w3.org/1999/02/22-rdf-syntax-ns#\">\r\n   <cc:Work>\r\n    <dc:type rdf:resource=\"http://purl.org/dc/dcmitype/StillImage\"/>\r\n    <dc:date>2022-02-02T11:05:43.870519</dc:date>\r\n    <dc:format>image/svg+xml</dc:format>\r\n    <dc:creator>\r\n     <cc:Agent>\r\n      <dc:title>Matplotlib v3.4.3, https://matplotlib.org/</dc:title>\r\n     </cc:Agent>\r\n    </dc:creator>\r\n   </cc:Work>\r\n  </rdf:RDF>\r\n </metadata>\r\n <defs>\r\n  <style type=\"text/css\">*{stroke-linecap:butt;stroke-linejoin:round;}</style>\r\n </defs>\r\n <g id=\"figure_1\">\r\n  <g id=\"patch_1\">\r\n   <path d=\"M 0 36 \r\nL 86.4 36 \r\nL 86.4 0 \r\nL 0 0 \r\nz\r\n\" style=\"fill:none;\"/>\r\n  </g>\r\n  <g id=\"axes_1\">\r\n   <g id=\"line2d_1\">\r\n    <path clip-path=\"url(#p579569db19)\" d=\"M 19.823377 18 \r\nL 66.576623 18 \r\n\" style=\"fill:none;stroke:#000000;stroke-linecap:square;stroke-width:0.8;\"/>\r\n   </g>\r\n   <g id=\"patch_2\">\r\n    <path clip-path=\"url(#p579569db19)\" d=\"M 19.823377 27.350649 \r\nC 22.303198 27.350649 24.681786 26.365406 26.435284 24.611908 \r\nC 28.188783 22.858409 29.174026 20.479821 29.174026 18 \r\nC 29.174026 15.520179 28.188783 13.141591 26.435284 11.388092 \r\nC 24.681786 9.634594 22.303198 8.649351 19.823377 8.649351 \r\nC 17.343555 8.649351 14.964967 9.634594 13.211469 11.388092 \r\nC 11.457971 13.141591 10.472727 15.520179 10.472727 18 \r\nC 10.472727 20.479821 11.457971 22.858409 13.211469 24.611908 \r\nC 14.964967 26.365406 17.343555 27.350649 19.823377 27.350649 \r\nz\r\n\" style=\"fill:#008000;stroke:#000000;stroke-linejoin:miter;\"/>\r\n   </g>\r\n   <g id=\"patch_3\">\r\n    <path clip-path=\"url(#p579569db19)\" d=\"M 66.576623 27.350649 \r\nC 69.056445 27.350649 71.435033 26.365406 73.188531 24.611908 \r\nC 74.942029 22.858409 75.927273 20.479821 75.927273 18 \r\nC 75.927273 15.520179 74.942029 13.141591 73.188531 11.388092 \r\nC 71.435033 9.634594 69.056445 8.649351 66.576623 8.649351 \r\nC 64.096802 8.649351 61.718214 9.634594 59.964716 11.388092 \r\nC 58.211217 13.141591 57.225974 15.520179 57.225974 18 \r\nC 57.225974 20.479821 58.211217 22.858409 59.964716 24.611908 \r\nC 61.718214 26.365406 64.096802 27.350649 66.576623 27.350649 \r\nz\r\n\" style=\"fill:#ff0000;stroke:#000000;stroke-linejoin:miter;\"/>\r\n   </g>\r\n  </g>\r\n </g>\r\n <defs>\r\n  <clipPath id=\"p579569db19\">\r\n   <rect height=\"21.6\" width=\"72\" x=\"7.2\" y=\"7.2\"/>\r\n  </clipPath>\r\n </defs>\r\n</svg>\r\n",
      "text/plain": [
       "<Figure size 72x21.6 with 1 Axes>"
      ]
     },
     "metadata": {},
     "output_type": "display_data"
    },
    {
     "data": {
      "image/svg+xml": "<?xml version=\"1.0\" encoding=\"utf-8\" standalone=\"no\"?>\r\n<!DOCTYPE svg PUBLIC \"-//W3C//DTD SVG 1.1//EN\"\r\n  \"http://www.w3.org/Graphics/SVG/1.1/DTD/svg11.dtd\">\r\n<svg height=\"50.240373pt\" version=\"1.1\" viewBox=\"0 0 86.4 50.240373\" width=\"86.4pt\" xmlns=\"http://www.w3.org/2000/svg\" xmlns:xlink=\"http://www.w3.org/1999/xlink\">\r\n <metadata>\r\n  <rdf:RDF xmlns:cc=\"http://creativecommons.org/ns#\" xmlns:dc=\"http://purl.org/dc/elements/1.1/\" xmlns:rdf=\"http://www.w3.org/1999/02/22-rdf-syntax-ns#\">\r\n   <cc:Work>\r\n    <dc:type rdf:resource=\"http://purl.org/dc/dcmitype/StillImage\"/>\r\n    <dc:date>2022-02-02T11:05:43.929357</dc:date>\r\n    <dc:format>image/svg+xml</dc:format>\r\n    <dc:creator>\r\n     <cc:Agent>\r\n      <dc:title>Matplotlib v3.4.3, https://matplotlib.org/</dc:title>\r\n     </cc:Agent>\r\n    </dc:creator>\r\n   </cc:Work>\r\n  </rdf:RDF>\r\n </metadata>\r\n <defs>\r\n  <style type=\"text/css\">*{stroke-linecap:butt;stroke-linejoin:round;}</style>\r\n </defs>\r\n <g id=\"figure_1\">\r\n  <g id=\"patch_1\">\r\n   <path d=\"M 0 50.240373 \r\nL 86.4 50.240373 \r\nL 86.4 -0 \r\nL 0 -0 \r\nz\r\n\" style=\"fill:none;\"/>\r\n  </g>\r\n  <g id=\"axes_1\">\r\n   <g id=\"line2d_1\">\r\n    <path clip-path=\"url(#p42c634c3d8)\" d=\"M 19.823377 18 \r\nL 66.576623 18 \r\n\" style=\"fill:none;stroke:#000000;stroke-linecap:square;stroke-width:0.8;\"/>\r\n   </g>\r\n   <g id=\"patch_2\">\r\n    <path clip-path=\"url(#p42c634c3d8)\" d=\"M 19.823377 27.350649 \r\nC 22.303198 27.350649 24.681786 26.365406 26.435284 24.611908 \r\nC 28.188783 22.858409 29.174026 20.479821 29.174026 18 \r\nC 29.174026 15.520179 28.188783 13.141591 26.435284 11.388092 \r\nC 24.681786 9.634594 22.303198 8.649351 19.823377 8.649351 \r\nC 17.343555 8.649351 14.964967 9.634594 13.211469 11.388092 \r\nC 11.457971 13.141591 10.472727 15.520179 10.472727 18 \r\nC 10.472727 20.479821 11.457971 22.858409 13.211469 24.611908 \r\nC 14.964967 26.365406 17.343555 27.350649 19.823377 27.350649 \r\nz\r\n\" style=\"fill:#008000;stroke:#000000;stroke-linejoin:miter;\"/>\r\n   </g>\r\n   <g id=\"patch_3\">\r\n    <path clip-path=\"url(#p42c634c3d8)\" d=\"M 66.576623 27.350649 \r\nC 69.056445 27.350649 71.435033 26.365406 73.188531 24.611908 \r\nC 74.942029 22.858409 75.927273 20.479821 75.927273 18 \r\nC 75.927273 15.520179 74.942029 13.141591 73.188531 11.388092 \r\nC 71.435033 9.634594 69.056445 8.649351 66.576623 8.649351 \r\nC 64.096802 8.649351 61.718214 9.634594 59.964716 11.388092 \r\nC 58.211217 13.141591 57.225974 15.520179 57.225974 18 \r\nC 57.225974 20.479821 58.211217 22.858409 59.964716 24.611908 \r\nC 61.718214 26.365406 64.096802 27.350649 66.576623 27.350649 \r\nz\r\n\" style=\"fill:#ff0000;stroke:#000000;stroke-linejoin:miter;\"/>\r\n   </g>\r\n   <g id=\"text_1\">\r\n    <!-- π/2 -->\r\n    <g style=\"fill:#0000ff;\" transform=\"translate(13.522752 41.376623)scale(0.08 -0.08)\">\r\n     <defs>\r\n      <path d=\"M 231 3500 \r\nL 3584 3500 \r\nL 3584 2925 \r\nL 3144 2925 \r\nL 3144 775 \r\nQ 3144 550 3220 451 \r\nQ 3297 353 3469 353 \r\nQ 3516 353 3584 361 \r\nQ 3653 369 3675 372 \r\nL 3675 -44 \r\nQ 3566 -84 3450 -103 \r\nQ 3334 -122 3219 -122 \r\nQ 2844 -122 2700 83 \r\nQ 2556 288 2556 838 \r\nL 2556 2925 \r\nL 1266 2925 \r\nL 1266 0 \r\nL 678 0 \r\nL 678 2925 \r\nL 231 2925 \r\nL 231 3500 \r\nz\r\n\" id=\"DejaVuSans-3c0\" transform=\"scale(0.015625)\"/>\r\n      <path d=\"M 1625 4666 \r\nL 2156 4666 \r\nL 531 -594 \r\nL 0 -594 \r\nL 1625 4666 \r\nz\r\n\" id=\"DejaVuSans-2f\" transform=\"scale(0.015625)\"/>\r\n      <path d=\"M 1228 531 \r\nL 3431 531 \r\nL 3431 0 \r\nL 469 0 \r\nL 469 531 \r\nQ 828 903 1448 1529 \r\nQ 2069 2156 2228 2338 \r\nQ 2531 2678 2651 2914 \r\nQ 2772 3150 2772 3378 \r\nQ 2772 3750 2511 3984 \r\nQ 2250 4219 1831 4219 \r\nQ 1534 4219 1204 4116 \r\nQ 875 4013 500 3803 \r\nL 500 4441 \r\nQ 881 4594 1212 4672 \r\nQ 1544 4750 1819 4750 \r\nQ 2544 4750 2975 4387 \r\nQ 3406 4025 3406 3419 \r\nQ 3406 3131 3298 2873 \r\nQ 3191 2616 2906 2266 \r\nQ 2828 2175 2409 1742 \r\nQ 1991 1309 1228 531 \r\nz\r\n\" id=\"DejaVuSans-32\" transform=\"scale(0.015625)\"/>\r\n     </defs>\r\n     <use xlink:href=\"#DejaVuSans-3c0\"/>\r\n     <use x=\"60.205078\" xlink:href=\"#DejaVuSans-2f\"/>\r\n     <use x=\"93.896484\" xlink:href=\"#DejaVuSans-32\"/>\r\n    </g>\r\n   </g>\r\n   <g id=\"text_2\">\r\n    <!-- 3π/4 -->\r\n    <g style=\"fill:#0000ff;\" transform=\"translate(57.730998 41.376623)scale(0.08 -0.08)\">\r\n     <defs>\r\n      <path d=\"M 2597 2516 \r\nQ 3050 2419 3304 2112 \r\nQ 3559 1806 3559 1356 \r\nQ 3559 666 3084 287 \r\nQ 2609 -91 1734 -91 \r\nQ 1441 -91 1130 -33 \r\nQ 819 25 488 141 \r\nL 488 750 \r\nQ 750 597 1062 519 \r\nQ 1375 441 1716 441 \r\nQ 2309 441 2620 675 \r\nQ 2931 909 2931 1356 \r\nQ 2931 1769 2642 2001 \r\nQ 2353 2234 1838 2234 \r\nL 1294 2234 \r\nL 1294 2753 \r\nL 1863 2753 \r\nQ 2328 2753 2575 2939 \r\nQ 2822 3125 2822 3475 \r\nQ 2822 3834 2567 4026 \r\nQ 2313 4219 1838 4219 \r\nQ 1578 4219 1281 4162 \r\nQ 984 4106 628 3988 \r\nL 628 4550 \r\nQ 988 4650 1302 4700 \r\nQ 1616 4750 1894 4750 \r\nQ 2613 4750 3031 4423 \r\nQ 3450 4097 3450 3541 \r\nQ 3450 3153 3228 2886 \r\nQ 3006 2619 2597 2516 \r\nz\r\n\" id=\"DejaVuSans-33\" transform=\"scale(0.015625)\"/>\r\n      <path d=\"M 2419 4116 \r\nL 825 1625 \r\nL 2419 1625 \r\nL 2419 4116 \r\nz\r\nM 2253 4666 \r\nL 3047 4666 \r\nL 3047 1625 \r\nL 3713 1625 \r\nL 3713 1100 \r\nL 3047 1100 \r\nL 3047 0 \r\nL 2419 0 \r\nL 2419 1100 \r\nL 313 1100 \r\nL 313 1709 \r\nL 2253 4666 \r\nz\r\n\" id=\"DejaVuSans-34\" transform=\"scale(0.015625)\"/>\r\n     </defs>\r\n     <use xlink:href=\"#DejaVuSans-33\"/>\r\n     <use x=\"63.623047\" xlink:href=\"#DejaVuSans-3c0\"/>\r\n     <use x=\"123.828125\" xlink:href=\"#DejaVuSans-2f\"/>\r\n     <use x=\"157.519531\" xlink:href=\"#DejaVuSans-34\"/>\r\n    </g>\r\n   </g>\r\n  </g>\r\n </g>\r\n <defs>\r\n  <clipPath id=\"p42c634c3d8\">\r\n   <rect height=\"21.6\" width=\"72\" x=\"7.2\" y=\"7.2\"/>\r\n  </clipPath>\r\n </defs>\r\n</svg>\r\n",
      "text/plain": [
       "<Figure size 72x21.6 with 1 Axes>"
      ]
     },
     "metadata": {},
     "output_type": "display_data"
    }
   ],
   "source": [
    "g = zx.Graph()\n",
    "v = g.add_vertex(1,0,0)\n",
    "w = g.add_vertex(2,0,1)\n",
    "g.add_edge((v,w))\n",
    "display(zx.draw_matplotlib(g, figsize=(1,0.3)))\n",
    "g.set_phase(v,Fraction(1,2))\n",
    "g.set_phase(w,Fraction(3,4))\n",
    "display(zx.draw_matplotlib(g, figsize=(1,0.3)))"
   ]
  },
  {
   "cell_type": "code",
   "execution_count": null,
   "metadata": {},
   "outputs": [],
   "source": []
  }
 ],
 "metadata": {
  "interpreter": {
   "hash": "a79884e4834f91c0f0d15c7cb696c21d631703e5abf58afc10bb48a5532883fa"
  },
  "kernelspec": {
   "display_name": "Python 3.9.7 64-bit",
   "language": "python",
   "name": "python3"
  },
  "language_info": {
   "codemirror_mode": {
    "name": "ipython",
    "version": 3
   },
   "file_extension": ".py",
   "mimetype": "text/x-python",
   "name": "python",
   "nbconvert_exporter": "python",
   "pygments_lexer": "ipython3",
   "version": "3.9.7"
  },
  "orig_nbformat": 4
 },
 "nbformat": 4,
 "nbformat_minor": 2
}
