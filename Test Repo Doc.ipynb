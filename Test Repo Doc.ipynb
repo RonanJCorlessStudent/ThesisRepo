{
 "cells": [
  {
   "cell_type": "code",
   "execution_count": null,
   "metadata": {},
   "outputs": [],
   "source": [
    "import pyzx as zx\n",
    "import matplotlib as plt\n",
    "import numpy as np\n",
    "from IPython.display import display\n",
    "from fractions import Fraction"
   ]
  },
  {
   "cell_type": "code",
   "execution_count": null,
   "metadata": {},
   "outputs": [],
   "source": [
    "g = zx.Graph()\n",
    "v = g.add_vertex(1,0,0)\n",
    "w = g.add_vertex(2,0,1)\n",
    "g.add_edge((v,w))\n",
    "display(zx.draw_matplotlib(g, figsize=(1,0.3)))\n",
    "g.set_phase(v,Fraction(1,2))\n",
    "g.set_phase(w,Fraction(3,4))\n",
    "display(zx.draw_matplotlib(g, figsize=(1,0.3)))"
   ]
  },
  {
   "cell_type": "code",
   "execution_count": null,
   "metadata": {},
   "outputs": [],
   "source": []
  },
  {
   "cell_type": "code",
   "execution_count": null,
   "metadata": {},
   "outputs": [],
   "source": []
  }
 ],
 "metadata": {
  "interpreter": {
   "hash": "a79884e4834f91c0f0d15c7cb696c21d631703e5abf58afc10bb48a5532883fa"
  },
  "kernelspec": {
   "display_name": "Python 3.9.7 64-bit",
   "language": "python",
   "name": "python3"
  },
  "language_info": {
   "codemirror_mode": {
    "name": "ipython",
    "version": 3
   },
   "file_extension": ".py",
   "mimetype": "text/x-python",
   "name": "python",
   "nbconvert_exporter": "python",
   "pygments_lexer": "ipython3",
   "version": "3.9.7"
  },
  "orig_nbformat": 4
 },
 "nbformat": 4,
 "nbformat_minor": 2
}
