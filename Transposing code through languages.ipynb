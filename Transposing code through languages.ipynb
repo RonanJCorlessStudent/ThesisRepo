{
 "cells": [
  {
   "cell_type": "code",
   "execution_count": 144,
   "metadata": {},
   "outputs": [
    {
     "data": {
      "text/plain": [
       "'version 1.0;\\nqubits 3; # setting three qubits\\n# start writing your code here\\nprep_z q[0,1,2];\\nX q[0,1];\\nZ q[2];\\nH q[0];\\nCNOT q[0],q[2]; # controlled not gate\\nmeasure_all;'"
      ]
     },
     "execution_count": 144,
     "metadata": {},
     "output_type": "execute_result"
    }
   ],
   "source": [
    "with open(\"C:\\\\Users\\\\Ronan Corless\\\\Documents\\\\GitHub\\\\ThesisRepo\\\\TestOPENQASMcode.txt\", 'r') as file:\n",
    "    data = file.read().replace('','')\n",
    "data\n",
    "with open(\"C:\\\\Users\\\\Ronan Corless\\\\Documents\\\\GitHub\\\\ThesisRepo\\\\TestcQASMcode.txt\", 'r') as file:\n",
    "    data2 = file.read().replace('','')\n",
    "data2"
   ]
  },
  {
   "cell_type": "code",
   "execution_count": 145,
   "metadata": {},
   "outputs": [],
   "source": [
    "import math\n",
    "from fractions import Fraction\n",
    "from typing import List, Dict, Tuple, Optional"
   ]
  },
  {
   "cell_type": "code",
   "execution_count": 146,
   "metadata": {},
   "outputs": [],
   "source": [
    "lines = data.splitlines()\n",
    "r = []\n",
    "#strip comments\n",
    "for s in lines:\n",
    "    if s.find(\"//\")!=-1:\n",
    "        t = s[0:s.find(\"//\")].strip()\n",
    "    else: t = s.strip()\n",
    "    if t: r.append(t)"
   ]
  },
  {
   "cell_type": "code",
   "execution_count": 147,
   "metadata": {},
   "outputs": [
    {
     "data": {
      "text/plain": [
       "'OPENQASM 2.0;\\ninclude \"qelib1.inc\";\\nqreg a[3];\\ncreg meas[3];\\nx a[0];\\nx a[1];\\nz a[2];\\nh a[0];\\ncx a[0],a[2];\\nbarrier a[0],a[1],a[2];\\nmeasure a[0] -> meas[0];\\nmeasure a[1] -> meas[1];\\nmeasure a[2] -> meas[2];'"
      ]
     },
     "execution_count": 147,
     "metadata": {},
     "output_type": "execute_result"
    }
   ],
   "source": [
    "r\n",
    "data = \"\\n\".join(r)\n",
    "data"
   ]
  },
  {
   "cell_type": "markdown",
   "metadata": {},
   "source": [
    "Replicating above but for cqasm"
   ]
  },
  {
   "cell_type": "code",
   "execution_count": 148,
   "metadata": {},
   "outputs": [
    {
     "data": {
      "text/plain": [
       "'version 1.0;'"
      ]
     },
     "execution_count": 148,
     "metadata": {},
     "output_type": "execute_result"
    }
   ],
   "source": [
    "lines = data2.splitlines()\n",
    "r = []\n",
    "#strip comments\n",
    "for s in lines:\n",
    "    if s.find(\"#\")!=-1:\n",
    "        t = s[0:s.find(\"#\")].strip()\n",
    "    else: t = s.strip()\n",
    "    if t: r.append(t)   \n",
    "r.pop(0)"
   ]
  },
  {
   "cell_type": "code",
   "execution_count": 149,
   "metadata": {},
   "outputs": [
    {
     "data": {
      "text/plain": [
       "'qubits 3;\\nprep_z q[0,1,2];\\nX q[0,1];\\nZ q[2];\\nH q[0];\\nCNOT q[0],q[2];\\nmeasure_all;'"
      ]
     },
     "execution_count": 149,
     "metadata": {},
     "output_type": "execute_result"
    }
   ],
   "source": [
    "data2 = \"\\n\".join(r)\n",
    "data2"
   ]
  },
  {
   "cell_type": "code",
   "execution_count": 150,
   "metadata": {},
   "outputs": [
    {
     "data": {
      "text/plain": [
       "['qubits 3',\n",
       " 'prep_z q[0,1,2]',\n",
       " 'X q[0,1]',\n",
       " 'Z q[2]',\n",
       " 'H q[0]',\n",
       " 'CNOT q[0],q[2]',\n",
       " 'measure_all']"
      ]
     },
     "execution_count": 150,
     "metadata": {},
     "output_type": "execute_result"
    }
   ],
   "source": [
    "commands = [s.strip() for s in data2.split(\";\") if s.strip()]\n",
    "commands"
   ]
  },
  {
   "cell_type": "code",
   "execution_count": 216,
   "metadata": {},
   "outputs": [],
   "source": [
    "def parse_command(commands):\n",
    "        c = commands.split(' ')\n",
    "        if len(c) == 1:\n",
    "                com = c\n",
    "        elif len(c) == 2: \n",
    "                name = c[0]\n",
    "                rest = c[1]\n",
    "                name = name.lower()\n",
    "                rest = rest.lower()\n",
    "                if name in [\"i\",\"h\",\"x\",\"y\",\"z\",\"x90\",\"y90\",\"mx90\",\"my90\",\"s\",\"sdag\",\"t\",\"tdag\"]:\n",
    "                        val = rest.split('[',1)[1].split(']')[0]\n",
    "                        print(\"There is a \",name, \" gate on the \", val, \" qubit(s)\")\n",
    "                if name.split('_')[0] in [\"prep\"]:\n",
    "                        val = name.split('_')[1]\n",
    "                        qubits = rest.split('[')[1].split(']')[0]\n",
    "                        print(\"The qubits \",qubits ,\"are prepared in the\", val,\"basis.\")\n",
    "                if name == \"measure_all\":\n",
    "                        return None\n",
    "                #if name == 'qubits':\n",
    "                        #self.qubit_count = rest\n",
    "        \n",
    "\n",
    "                \n",
    "                \n",
    "        "
   ]
  },
  {
   "cell_type": "code",
   "execution_count": 217,
   "metadata": {},
   "outputs": [],
   "source": [
    "def groupparser(commands):\n",
    "    for i in commands:\n",
    "        parse_command(i)"
   ]
  },
  {
   "cell_type": "code",
   "execution_count": 218,
   "metadata": {},
   "outputs": [
    {
     "name": "stdout",
     "output_type": "stream",
     "text": [
      "The qubits  0,1,2 are prepared in the z basis.\n",
      "There is a  x  gate on the  0,1  qubit(s)\n",
      "There is a  z  gate on the  2  qubit(s)\n",
      "There is a  h  gate on the  0  qubit(s)\n"
     ]
    }
   ],
   "source": [
    "groupparser(commands)"
   ]
  },
  {
   "cell_type": "code",
   "execution_count": null,
   "metadata": {},
   "outputs": [],
   "source": []
  }
 ],
 "metadata": {
  "interpreter": {
   "hash": "a79884e4834f91c0f0d15c7cb696c21d631703e5abf58afc10bb48a5532883fa"
  },
  "kernelspec": {
   "display_name": "Python 3.9.7 64-bit",
   "language": "python",
   "name": "python3"
  },
  "language_info": {
   "codemirror_mode": {
    "name": "ipython",
    "version": 3
   },
   "file_extension": ".py",
   "mimetype": "text/x-python",
   "name": "python",
   "nbconvert_exporter": "python",
   "pygments_lexer": "ipython3",
   "version": "3.9.7"
  },
  "orig_nbformat": 4
 },
 "nbformat": 4,
 "nbformat_minor": 2
}
