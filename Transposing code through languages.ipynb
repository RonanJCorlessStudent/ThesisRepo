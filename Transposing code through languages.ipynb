{
 "cells": [
  {
   "cell_type": "code",
   "execution_count": 303,
   "metadata": {},
   "outputs": [],
   "source": [
    "import math\n",
    "from fractions import Fraction\n",
    "from typing import List, Dict, Tuple, Optional\n",
    "import collections \n",
    "from collections import Counter\n",
    "import re\n",
    "from pyzx.circuit import Circuit\n",
    "from pyzx.circuit.gates import Gate, qasm_gate_table, ZPhase, XPhase, CRZ, gate_types"
   ]
  },
  {
   "cell_type": "code",
   "execution_count": 326,
   "metadata": {},
   "outputs": [
    {
     "data": {
      "text/plain": [
       "'version 1.0;\\nqubits 3; # setting three qubits\\n# start writing your code here\\nprep_z q[0,1,2];\\nX q[0,1];\\nZ q[2];\\nH q[0];\\nCNOT q[0],q[2]; # controlled not gate\\nmeasure_all;'"
      ]
     },
     "execution_count": 326,
     "metadata": {},
     "output_type": "execute_result"
    }
   ],
   "source": [
    "with open(\"C:\\\\Users\\\\Ronan Corless\\\\Documents\\\\GitHub\\\\ThesisRepo\\\\TestOPENQASMcode.txt\", 'r') as file:\n",
    "    data = file.read().replace('','')\n",
    "with open(\"C:\\\\Users\\\\Ronan Corless\\\\Documents\\\\GitHub\\\\ThesisRepo\\\\TestcQASMcode.txt\", 'r') as file:\n",
    "    data2 = file.read().replace('','')\n",
    "data2"
   ]
  },
  {
   "cell_type": "code",
   "execution_count": 305,
   "metadata": {},
   "outputs": [],
   "source": [
    "lines = data2.splitlines()\n",
    "r = []\n",
    "#strip comments\n",
    "for s in lines:\n",
    "    if s.find(\"//\")!=-1:\n",
    "        t = s[0:s.find(\"//\")].strip()\n",
    "    else: t = s.strip()\n",
    "    if t: r.append(t)"
   ]
  },
  {
   "cell_type": "code",
   "execution_count": 306,
   "metadata": {},
   "outputs": [
    {
     "data": {
      "text/plain": [
       "'version 1.0;\\nqubits 3; # setting three qubits\\n# start writing your code here\\nprep_z q[0,1,2];\\nX q[0,1];\\nZ q[2];\\nH q[0];\\nCNOT q[0],q[2]; # controlled not gate\\nmeasure_all;'"
      ]
     },
     "execution_count": 306,
     "metadata": {},
     "output_type": "execute_result"
    }
   ],
   "source": [
    "r\n",
    "data2 = \"\\n\".join(r)\n",
    "data2"
   ]
  },
  {
   "cell_type": "markdown",
   "metadata": {},
   "source": [
    "Replicating above but for cqasm"
   ]
  },
  {
   "cell_type": "code",
   "execution_count": 307,
   "metadata": {},
   "outputs": [
    {
     "data": {
      "text/plain": [
       "'version 1.0;'"
      ]
     },
     "execution_count": 307,
     "metadata": {},
     "output_type": "execute_result"
    }
   ],
   "source": [
    "lines = data2.splitlines()\n",
    "r = []\n",
    "#strip comments\n",
    "for s in lines:\n",
    "    if s.find(\"#\")!=-1:\n",
    "        t = s[0:s.find(\"#\")].strip()\n",
    "    else: t = s.strip()\n",
    "    if t: r.append(t)   \n",
    "r.pop(0)"
   ]
  },
  {
   "cell_type": "code",
   "execution_count": 308,
   "metadata": {},
   "outputs": [
    {
     "data": {
      "text/plain": [
       "'qubits 3;\\nprep_z q[0,1,2];\\nX q[0,1];\\nZ q[2];\\nH q[0];\\nCNOT q[0],q[2];\\nmeasure_all;'"
      ]
     },
     "execution_count": 308,
     "metadata": {},
     "output_type": "execute_result"
    }
   ],
   "source": [
    "data2 = \"\\n\".join(r)\n",
    "data2"
   ]
  },
  {
   "cell_type": "code",
   "execution_count": 309,
   "metadata": {},
   "outputs": [
    {
     "data": {
      "text/plain": [
       "['qubits 3',\n",
       " 'prep_z q[0,1,2]',\n",
       " 'X q[0,1]',\n",
       " 'Z q[2]',\n",
       " 'H q[0]',\n",
       " 'CNOT q[0],q[2]',\n",
       " 'measure_all']"
      ]
     },
     "execution_count": 309,
     "metadata": {},
     "output_type": "execute_result"
    }
   ],
   "source": [
    "commands = [s.strip() for s in data2.split(\";\") if s.strip()]\n",
    "commands"
   ]
  },
  {
   "cell_type": "code",
   "execution_count": 310,
   "metadata": {},
   "outputs": [
    {
     "ename": "TypeError",
     "evalue": "parse_command() missing 2 required positional arguments: 'c' and 'registers'",
     "output_type": "error",
     "traceback": [
      "\u001b[1;31m---------------------------------------------------------------------------\u001b[0m",
      "\u001b[1;31mTypeError\u001b[0m                                 Traceback (most recent call last)",
      "\u001b[1;32m~\\AppData\\Local\\Temp/ipykernel_17292/1569094302.py\u001b[0m in \u001b[0;36m<module>\u001b[1;34m\u001b[0m\n\u001b[1;32m----> 1\u001b[1;33m \u001b[0mparse_command\u001b[0m\u001b[1;33m(\u001b[0m\u001b[1;34m'CNOT q[0],q[2]'\u001b[0m\u001b[1;33m)\u001b[0m\u001b[1;33m\u001b[0m\u001b[1;33m\u001b[0m\u001b[0m\n\u001b[0m",
      "\u001b[1;31mTypeError\u001b[0m: parse_command() missing 2 required positional arguments: 'c' and 'registers'"
     ]
    }
   ],
   "source": [
    "parse_command('CNOT q[0],q[2]')"
   ]
  },
  {
   "cell_type": "code",
   "execution_count": 315,
   "metadata": {},
   "outputs": [],
   "source": [
    "class cQASMParser(object):\n",
    "        \"A class to parse cqasm txt files into zx circuit diagrams\"\n",
    "        def __init__(self)-> None: #initializing lists we will be using later\n",
    "                self.gates: List[Gate] = []            \n",
    "                self.registers: Dict[str,Tuple[int,int]] = {}\n",
    "                self.qubit_count: int = 0\n",
    "                self.circuit: Optional[Circuit] = None\n",
    "    \n",
    "        def parse(self, s: str, strict:bool=True) -> Circuit:\n",
    "                s = s.lower()\n",
    "                lines = s.splitlines() # spliting the input file by line\n",
    "                r=[]\n",
    "                for s in lines:\n",
    "                        if s.find(\"#\")!=-1: # clearing out the portion of any lines that comes after a hashtag ie. is commmented\n",
    "                                t = s[0:s.find('#')].strip()\n",
    "                        else: t = s.strip()\n",
    "                        if t:r.append(t) # creating a list of the lines without comments\n",
    "                if r[0].lower().startswith(\"version\"):\n",
    "                        r.pop(0) # if the first line starts with version, pop it out\n",
    "                elif strict:\n",
    "                        raise TypeError(\"File doesn't start with cQasm denotation\") # denotes that wearent sure if it is a cqasm file\n",
    "                data = \"\\n\".join(r) # combines the list back into a text file with \\n meaning new line\n",
    "        \n",
    "                commands = [s.strip() for s in data.split(\";\") if s.strip()]\n",
    "                for c in commands:\n",
    "                        self.gate.extend(self.parse_command(c, self.registers))\n",
    "                circ = Circuit(self.qubit_count)\n",
    "                circ.gates = self.gates\n",
    "                self.circuit = circ\n",
    "                return self.circuit\n",
    "        \n",
    "        \n",
    "        def parse_command(commands):\n",
    "                c = commands.split(' ')\n",
    "        \n",
    "                if len(c) == 1:\n",
    "                        com = c\n",
    "                elif len(c) == 2:\n",
    "                        if c[1].count('[')== 1:\n",
    "                                name = c[0]\n",
    "                                rest = c[1]\n",
    "                                name = name.lower()\n",
    "                                rest = rest.lower()\n",
    "                                if name in [\"i\",\"h\",\"x\",\"y\",\"z\",\"x90\",\"y90\",\"mx90\",\"my90\",\"s\",\"sdag\",\"t\",\"tdag\"]:\n",
    "                                        val = rest.split('[',1)[1].split(']')[0]\n",
    "                                        print(\"There is a \",name, \" gate on the \", val, \" qubit(s)\")\n",
    "                                if name.split('_')[0] in [\"prep\"]:\n",
    "                                        val = name.split('_')[1]\n",
    "                                        qubits = rest.split('[')[1].split(']')[0]\n",
    "                                        print(\"The qubits \",qubits ,\"are prepared in the\", val,\"basis.\")\n",
    "                                if name == \"measure_all\":\n",
    "                                        return None\n",
    "                                if name == 'qubits':\n",
    "                                        self.qubit_count = rest\n",
    "                        elif c[1].count('[') == 2:\n",
    "                                name = c[0]\n",
    "                                rest = c[1]\n",
    "                                name = name.lower()\n",
    "                                rest = rest.lower()\n",
    "                                if name in [\"cnot\"]:\n",
    "                                        val = rest.split(\",\")\n",
    "                                        qubits = []\n",
    "                                        for i in range(len(val)):\n",
    "                                                qubit = val[i].split('[')[1].split(']')[0]\n",
    "                                                qubits.append(int(qubit))\n",
    "                                                qubits = sorted(qubits)\n",
    "                                                print(qubits)\n",
    "                                        print(\"There is a \",name,\"gate on the qubits \", qubits)\n",
    "    "
   ]
  },
  {
   "cell_type": "code",
   "execution_count": 316,
   "metadata": {},
   "outputs": [
    {
     "ename": "TypeError",
     "evalue": "File doesn't start with cQasm denotation",
     "output_type": "error",
     "traceback": [
      "\u001b[1;31m---------------------------------------------------------------------------\u001b[0m",
      "\u001b[1;31mTypeError\u001b[0m                                 Traceback (most recent call last)",
      "\u001b[1;32m~\\AppData\\Local\\Temp/ipykernel_17292/3412274795.py\u001b[0m in \u001b[0;36m<module>\u001b[1;34m\u001b[0m\n\u001b[0;32m      1\u001b[0m \u001b[0mattempt\u001b[0m \u001b[1;33m=\u001b[0m \u001b[0mcQASMParser\u001b[0m\u001b[1;33m(\u001b[0m\u001b[1;33m)\u001b[0m\u001b[1;33m\u001b[0m\u001b[1;33m\u001b[0m\u001b[0m\n\u001b[1;32m----> 2\u001b[1;33m \u001b[0mattempt\u001b[0m\u001b[1;33m.\u001b[0m\u001b[0mparse\u001b[0m\u001b[1;33m(\u001b[0m\u001b[0mdata2\u001b[0m\u001b[1;33m)\u001b[0m\u001b[1;33m\u001b[0m\u001b[1;33m\u001b[0m\u001b[0m\n\u001b[0m",
      "\u001b[1;32m~\\AppData\\Local\\Temp/ipykernel_17292/1885130735.py\u001b[0m in \u001b[0;36mparse\u001b[1;34m(self, s, strict)\u001b[0m\n\u001b[0;32m     19\u001b[0m                         \u001b[0mr\u001b[0m\u001b[1;33m.\u001b[0m\u001b[0mpop\u001b[0m\u001b[1;33m(\u001b[0m\u001b[1;36m0\u001b[0m\u001b[1;33m)\u001b[0m \u001b[1;31m# if the first line starts with version, pop it out\u001b[0m\u001b[1;33m\u001b[0m\u001b[1;33m\u001b[0m\u001b[0m\n\u001b[0;32m     20\u001b[0m                 \u001b[1;32melif\u001b[0m \u001b[0mstrict\u001b[0m\u001b[1;33m:\u001b[0m\u001b[1;33m\u001b[0m\u001b[1;33m\u001b[0m\u001b[0m\n\u001b[1;32m---> 21\u001b[1;33m                         \u001b[1;32mraise\u001b[0m \u001b[0mTypeError\u001b[0m\u001b[1;33m(\u001b[0m\u001b[1;34m\"File doesn't start with cQasm denotation\"\u001b[0m\u001b[1;33m)\u001b[0m \u001b[1;31m# denotes that wearent sure if it is a cqasm file\u001b[0m\u001b[1;33m\u001b[0m\u001b[1;33m\u001b[0m\u001b[0m\n\u001b[0m\u001b[0;32m     22\u001b[0m                 \u001b[0mdata\u001b[0m \u001b[1;33m=\u001b[0m \u001b[1;34m\"\\n\"\u001b[0m\u001b[1;33m.\u001b[0m\u001b[0mjoin\u001b[0m\u001b[1;33m(\u001b[0m\u001b[0mr\u001b[0m\u001b[1;33m)\u001b[0m \u001b[1;31m# combines the list back into a text file with \\n meaning new line\u001b[0m\u001b[1;33m\u001b[0m\u001b[1;33m\u001b[0m\u001b[0m\n\u001b[0;32m     23\u001b[0m \u001b[1;33m\u001b[0m\u001b[0m\n",
      "\u001b[1;31mTypeError\u001b[0m: File doesn't start with cQasm denotation"
     ]
    }
   ],
   "source": [
    "attempt = cQASMParser()\n",
    "attempt.parse(data2)"
   ]
  },
  {
   "cell_type": "code",
   "execution_count": 356,
   "metadata": {},
   "outputs": [
    {
     "ename": "SyntaxError",
     "evalue": "invalid syntax (Temp/ipykernel_17292/1084494676.py, line 26)",
     "output_type": "error",
     "traceback": [
      "\u001b[1;36m  File \u001b[1;32m\"C:\\Users\\Ronan Corless\\AppData\\Local\\Temp/ipykernel_17292/1084494676.py\"\u001b[1;36m, line \u001b[1;32m26\u001b[0m\n\u001b[1;33m    name = name.lower()x\u001b[0m\n\u001b[1;37m                       ^\u001b[0m\n\u001b[1;31mSyntaxError\u001b[0m\u001b[1;31m:\u001b[0m invalid syntax\n"
     ]
    }
   ],
   "source": [
    "def parse_command(self, c:str, registers: Dict[str, Tuple[int,int]]) -> List[Gate]:\n",
    "        gates: List[Gate] = []\n",
    "        cbreak = c.split(' ')\n",
    "        if len(cbreak) == 1:\n",
    "                com = cbreak\n",
    "        elif len(cbreak) == 2:\n",
    "                if cbreak[1].count('[')== 1:\n",
    "                        name = cbreak[0]\n",
    "                        rest = cbreak[1]\n",
    "                        name = name.lower()\n",
    "                        rest = rest.lower()\n",
    "                        if name in [\"i\",\"h\",\"x\",\"y\",\"z\",\"x90\",\"y90\",\"mx90\",\"my90\",\"s\",\"sdag\",\"t\",\"tdag\"]:\n",
    "                                val = rest.split('[',1)[1].split(']')[0]\n",
    "                                print(\"There is a \",name, \" gate on the \", val, \" qubit(s)\")\n",
    "                        if name.split('_')[0] in [\"prep\"]:\n",
    "                                val = name.split('_')[1]\n",
    "                                qubits = rest.split('[')[1].split(']')[0]\n",
    "                                print(\"The qubits \",qubits ,\"are prepared in the\", val,\"basis.\")\n",
    "                        if name == \"measure_all\":\n",
    "                                return None\n",
    "                        if name == 'qubits':\n",
    "                                self.qubit_count = rest\n",
    "                elif cbreak[1].count('[') == 2:\n",
    "                        name = cbreak[0]\n",
    "                        rest = cbreak[1]\n",
    "                        name = name.lower()x\n",
    "                        rest = rest.lower()\n",
    "                        if name in [\"cnot\"]:\n",
    "                                val = rest.split(\",\")\n",
    "                                qubits = []\n",
    "                                for i in range(len(val)):\n",
    "                                        qubit = val[i].split('[')[1].split(']')[0]\n",
    "                                        qubits.append(int(qubit))\n",
    "                                        qubits = sorted(qubits)\n",
    "                                        print(qubits)\n",
    "                                print(\"There is a \",name,\"gate on the qubits \", qubits)"
   ]
  },
  {
   "cell_type": "code",
   "execution_count": 318,
   "metadata": {},
   "outputs": [
    {
     "ename": "IndentationError",
     "evalue": "expected an indented block (Temp/ipykernel_17292/665958171.py, line 53)",
     "output_type": "error",
     "traceback": [
      "\u001b[1;36m  File \u001b[1;32m\"C:\\Users\\Ronan Corless\\AppData\\Local\\Temp/ipykernel_17292/665958171.py\"\u001b[1;36m, line \u001b[1;32m53\u001b[0m\n\u001b[1;33m    if name in (\"cr\"):\u001b[0m\n\u001b[1;37m    ^\u001b[0m\n\u001b[1;31mIndentationError\u001b[0m\u001b[1;31m:\u001b[0m expected an indented block\n"
     ]
    }
   ],
   "source": [
    "def parse_command(self, c: str, registers : Dict[str, Tuple[int,int]]) -> List[Gate]:\n",
    "    gates: List[Gate] =[]\n",
    "    name, rest = c.split(\" \",1)\n",
    "    print(rest)\n",
    "    rest = ''.join(rest.split())\n",
    "    qlist = []\n",
    "    qlisttrue = []\n",
    "    if rest.count(\"q[\") != 0:\n",
    "        for i in range(rest.count(\"q[\")):\n",
    "            rest2 = rest.split(\"q\")\n",
    "            rest2.pop(0)\n",
    "        for j in range(len(rest2)):\n",
    "            rest2[j] = rest2[j].split(\"[\")[1]\n",
    "            rest2[j] = rest2[j].split(\"]\")[0]\n",
    "            rest2[j] = rest2[j].split(\",\")\n",
    "            for l in range(len(rest2[j])):\n",
    "                if rest2[j][l].count(\":\") == 0:  \n",
    "                    qlist.append(rest2[j][l])\n",
    "                else:\n",
    "                    firstside = (rest2[j][l].split(\":\")[0])[-1]\n",
    "                    secondside = (rest2[j][l].split(\":\")[1])[0]\n",
    "                    for k in range(int(firstside),int(secondside)+1):\n",
    "                        qlist.append(k)\n",
    "        qlist = [int(i) for i in qlist]\n",
    "        for i in qlist:\n",
    "            if i not in qlisttrue:\n",
    "                qlisttrue.append(i)\n",
    "        qlisttrue = qlisttrue.sort()\n",
    "    if name == \"qubits\":\n",
    "        self.qubit_count = rest\n",
    "        #counts how many qubits we are working with\n",
    "        return gates\n",
    "    if name in (\"i\",\"h\",\"x\",\"y\",\"z\",\"x90\",\"y90\",\"mx90\",\"my90\",\"s\",\"sdag\",\"t\",\"tdag\"):\n",
    "        #these are the non-argumentative single qubit gates\n",
    "        onq = rest.split('[')[1].split(']')[0]\n",
    "        howmanyq = onq.count(\",\")\n",
    "        if howmanyq == (0):\n",
    "            g = cqasm_gate_table[name]\n",
    "    if name in (\"x\",\"z\",\"s\",\"t\",\"h\",\"sdag\",\"tdag\",\"h\"): # these gates are already available as they exist in qasm_gate_table\n",
    "        onq = rest.split('[')[1].split(']')[0]\n",
    "        howmanyq = onq.count(\",\")\n",
    "        if howmanyq == 0:\n",
    "            g = cqasm_gate_table[name]\n",
    "        if name in ('sdag'):\n",
    "            g = qasm_gate_table[\"sdg\"](argset[0],adjoint=True)\n",
    "        elif name in (\"tdag\"):\n",
    "            g = qasm_gate_table[\"sdg\"](argset[0],adjoint=True)\n",
    "        else:\n",
    "            g = qasm_gate_table[name](argset[0])\n",
    "        gates.append(g)\n",
    "    if name in (\"rx\",\"ry\",\"rz\"):\n",
    "        #single qubit gates with arguments for rotation\n",
    "    if name in (\"cr\"):\n",
    "        #single quibt gates with rotation around an arbitrary angle\n",
    "    if name in (\"crk\"):\n",
    "        #single quibt gates with rotation around a pi over 2^k gates\n",
    "    if name in (\"c-x\",\"c-z\"):\n",
    "        #binary controlled rotation gates\n",
    "    if name in (\"cnot\"):\n",
    "        #2 qubit CNOT gates\n",
    "    if name in (\"toffoli\"):\n",
    "        #toffoli gates \n",
    "    if name in (\"swap\"):\n",
    "        #swap gates on two qubits\n",
    "    "
   ]
  },
  {
   "cell_type": "code",
   "execution_count": 319,
   "metadata": {},
   "outputs": [],
   "source": [
    "def parse_command(self, c: str, registers : Dict[str, Tuple[int,int]]) -> List[Gate]:\n",
    "    gates: List[Gate] =[]\n",
    "    name, rest = c.split(\" \",1)\n",
    "    if name == \"qubits\":\n",
    "        self.qubit_count = rest\n",
    "\n",
    "    if rest.count(\"q[\") != 0:\n",
    "        for i in range(rest.count(\"q[\")):\n",
    "            rest.split(\"q[\")    \n",
    "            content = rest.split('[')[1].split(']')[0]\n",
    "            howmanygroup = content.count(\",\")\n",
    "            qlist.append(howmanygroup) "
   ]
  },
  {
   "cell_type": "code",
   "execution_count": 320,
   "metadata": {},
   "outputs": [
    {
     "ename": "SyntaxError",
     "evalue": "unexpected EOF while parsing (Temp/ipykernel_17292/1509796833.py, line 1)",
     "output_type": "error",
     "traceback": [
      "\u001b[1;36m  File \u001b[1;32m\"C:\\Users\\Ronan Corless\\AppData\\Local\\Temp/ipykernel_17292/1509796833.py\"\u001b[1;36m, line \u001b[1;32m1\u001b[0m\n\u001b[1;33m    parse_command(c, d\u001b[0m\n\u001b[1;37m                      ^\u001b[0m\n\u001b[1;31mSyntaxError\u001b[0m\u001b[1;31m:\u001b[0m unexpected EOF while parsing\n"
     ]
    }
   ],
   "source": [
    "parse_command(c, d"
   ]
  },
  {
   "cell_type": "code",
   "execution_count": 357,
   "metadata": {},
   "outputs": [
    {
     "name": "stdout",
     "output_type": "stream",
     "text": [
      "[0, 1, 2, 3, 4, 5, 7, 9]\n"
     ]
    }
   ],
   "source": [
    "rest = \"q[0,1,3:5,7] ,q[0,1,2:4],   q[0,1,2,9]\"\n",
    "rest = ''.join(rest.split())\n",
    "qlist = []\n",
    "qlisttrue = []\n",
    "if rest.count(\"q[\") != 0:\n",
    "    for i in range(rest.count(\"q[\")):\n",
    "        rest2 = rest.split(\"q\")\n",
    "        rest2.pop(0)\n",
    "    for j in range(len(rest2)):\n",
    "        rest2[j] = rest2[j].split(\"[\")[1]\n",
    "        rest2[j] = rest2[j].split(\"]\")[0]\n",
    "        rest2[j] = rest2[j].split(\",\")\n",
    "        for l in range(len(rest2[j])):\n",
    "            if rest2[j][l].count(\":\") == 0:  \n",
    "                qlist.append(rest2[j][l])\n",
    "            else:\n",
    "                firstside = (rest2[j][l].split(\":\")[0])[-1]\n",
    "                secondside = (rest2[j][l].split(\":\")[1])[0]\n",
    "                for k in range(int(firstside),int(secondside)+1):\n",
    "                    qlist.append(k)\n",
    "    qlist = [int(i) for i in qlist]\n",
    "    for i in qlist:\n",
    "        if i not in qlisttrue:\n",
    "            qlisttrue.append(i)\n",
    "    qlisttrue.sort()\n",
    "    print(qlisttrue)"
   ]
  },
  {
   "cell_type": "code",
   "execution_count": 354,
   "metadata": {},
   "outputs": [],
   "source": [
    "class cQASMParser(object):\n",
    "        \"A class to parse cqasm txt files into zx circuit diagrams\"\n",
    "        def __init__(self)-> None: #initializing lists we will be using later\n",
    "                self.gates: List[Gate] = []            \n",
    "                self.registers: Dict[str,Tuple[int,int]] = {}\n",
    "                self.qubit_count: int = 0\n",
    "                self.circuit: Optional[Circuit] = None\n",
    "    \n",
    "        def parse(self, s: str, strict:bool=True) -> Circuit:\n",
    "                s = s.lower()\n",
    "                lines = s.splitlines() # spliting the input file by line\n",
    "                r=[]\n",
    "                for s in lines:\n",
    "                        if s.find(\"#\")!=-1: # clearing out the portion of any lines that comes after a hashtag ie. is commmented\n",
    "                                t = s[0:s.find('#')].strip()\n",
    "                        else: t = s.strip()\n",
    "                        if t:r.append(t) # creating a list of the lines without comments\n",
    "                if r[0].lower().startswith(\"version\"):\n",
    "                        r.pop(0) # if the first line starts with version, pop it out\n",
    "                elif strict:\n",
    "                        raise TypeError(\"File doesn't start with cQasm denotation\") # denotes that wearent sure if it is a cqasm file\n",
    "                data = \"\\n\".join(r) # combines the list back into a text file with \\n meaning new line\n",
    "        \n",
    "                commands = [s.strip() for s in data.split(\";\") if s.strip()]\n",
    "                for c in commands:\n",
    "                        self.gate.extend(self.parse_command(c, self.registers))\n",
    "                circ = Circuit(self.qubit_count)\n",
    "                circ.gates = self.gates\n",
    "                self.circuit = circ\n",
    "                return self.circuit\n",
    "        \n",
    "        \n",
    "        def parse_commands(self, c:str, registers = Dict[str,Tuple[int,int]]) -> List[Gate]:\n",
    "                gates: List[Gate] = []\n",
    "                name, rest = c.split()\n",
    "                rest = ''.join(rest.split())\n",
    "                qlist = []\n",
    "                qlisttrue = []\n",
    "                if rest.count(\"q[\") != 0:\n",
    "                        for i in range(rest.count(\"q[\")):\n",
    "                                rest2 = rest.split(\"q\")\n",
    "                                rest2.pop(0)\n",
    "                for j in range(len(rest2)):\n",
    "                        rest2[j] = rest2[j].split(\"[\")[1]\n",
    "                        rest2[j] = rest2[j].split(\"]\")[0]\n",
    "                        rest2[j] = rest2[j].split(\",\")\n",
    "                        for l in range(len(rest2[j])):\n",
    "                                if rest2[j][l].count(\":\") == 0:  \n",
    "                                        qlist.append(rest2[j][l])\n",
    "                                else:\n",
    "                                        firstside = (rest2[j][l].split(\":\")[0])[-1]\n",
    "                                        secondside = (rest2[j][l].split(\":\")[1])[0]\n",
    "                                for k in range(int(firstside),int(secondside)+1):\n",
    "                                        qlist.append(k)\n",
    "                qlist = [int(i) for i in qlist]\n",
    "                for i in qlist:\n",
    "                        if i not in qlisttrue:\n",
    "                                qlisttrue.append(i)\n",
    "                qlisttrue.sort()\n",
    "                print(qlisttrue)\n",
    "        \n"
   ]
  },
  {
   "cell_type": "code",
   "execution_count": 355,
   "metadata": {},
   "outputs": [
    {
     "ename": "AttributeError",
     "evalue": "'cQASMParser' object has no attribute 'gate'",
     "output_type": "error",
     "traceback": [
      "\u001b[1;31m---------------------------------------------------------------------------\u001b[0m",
      "\u001b[1;31mAttributeError\u001b[0m                            Traceback (most recent call last)",
      "\u001b[1;32m~\\AppData\\Local\\Temp/ipykernel_17292/3412274795.py\u001b[0m in \u001b[0;36m<module>\u001b[1;34m\u001b[0m\n\u001b[0;32m      1\u001b[0m \u001b[0mattempt\u001b[0m \u001b[1;33m=\u001b[0m \u001b[0mcQASMParser\u001b[0m\u001b[1;33m(\u001b[0m\u001b[1;33m)\u001b[0m\u001b[1;33m\u001b[0m\u001b[1;33m\u001b[0m\u001b[0m\n\u001b[1;32m----> 2\u001b[1;33m \u001b[0mattempt\u001b[0m\u001b[1;33m.\u001b[0m\u001b[0mparse\u001b[0m\u001b[1;33m(\u001b[0m\u001b[0mdata2\u001b[0m\u001b[1;33m)\u001b[0m\u001b[1;33m\u001b[0m\u001b[1;33m\u001b[0m\u001b[0m\n\u001b[0m",
      "\u001b[1;32m~\\AppData\\Local\\Temp/ipykernel_17292/2137054969.py\u001b[0m in \u001b[0;36mparse\u001b[1;34m(self, s, strict)\u001b[0m\n\u001b[0;32m     24\u001b[0m                 \u001b[0mcommands\u001b[0m \u001b[1;33m=\u001b[0m \u001b[1;33m[\u001b[0m\u001b[0ms\u001b[0m\u001b[1;33m.\u001b[0m\u001b[0mstrip\u001b[0m\u001b[1;33m(\u001b[0m\u001b[1;33m)\u001b[0m \u001b[1;32mfor\u001b[0m \u001b[0ms\u001b[0m \u001b[1;32min\u001b[0m \u001b[0mdata\u001b[0m\u001b[1;33m.\u001b[0m\u001b[0msplit\u001b[0m\u001b[1;33m(\u001b[0m\u001b[1;34m\";\"\u001b[0m\u001b[1;33m)\u001b[0m \u001b[1;32mif\u001b[0m \u001b[0ms\u001b[0m\u001b[1;33m.\u001b[0m\u001b[0mstrip\u001b[0m\u001b[1;33m(\u001b[0m\u001b[1;33m)\u001b[0m\u001b[1;33m]\u001b[0m\u001b[1;33m\u001b[0m\u001b[1;33m\u001b[0m\u001b[0m\n\u001b[0;32m     25\u001b[0m                 \u001b[1;32mfor\u001b[0m \u001b[0mc\u001b[0m \u001b[1;32min\u001b[0m \u001b[0mcommands\u001b[0m\u001b[1;33m:\u001b[0m\u001b[1;33m\u001b[0m\u001b[1;33m\u001b[0m\u001b[0m\n\u001b[1;32m---> 26\u001b[1;33m                         \u001b[0mself\u001b[0m\u001b[1;33m.\u001b[0m\u001b[0mgate\u001b[0m\u001b[1;33m.\u001b[0m\u001b[0mextend\u001b[0m\u001b[1;33m(\u001b[0m\u001b[0mself\u001b[0m\u001b[1;33m.\u001b[0m\u001b[0mparse_command\u001b[0m\u001b[1;33m(\u001b[0m\u001b[0mc\u001b[0m\u001b[1;33m,\u001b[0m \u001b[0mself\u001b[0m\u001b[1;33m.\u001b[0m\u001b[0mregisters\u001b[0m\u001b[1;33m)\u001b[0m\u001b[1;33m)\u001b[0m\u001b[1;33m\u001b[0m\u001b[1;33m\u001b[0m\u001b[0m\n\u001b[0m\u001b[0;32m     27\u001b[0m                 \u001b[0mcirc\u001b[0m \u001b[1;33m=\u001b[0m \u001b[0mCircuit\u001b[0m\u001b[1;33m(\u001b[0m\u001b[0mself\u001b[0m\u001b[1;33m.\u001b[0m\u001b[0mqubit_count\u001b[0m\u001b[1;33m)\u001b[0m\u001b[1;33m\u001b[0m\u001b[1;33m\u001b[0m\u001b[0m\n\u001b[0;32m     28\u001b[0m                 \u001b[0mcirc\u001b[0m\u001b[1;33m.\u001b[0m\u001b[0mgates\u001b[0m \u001b[1;33m=\u001b[0m \u001b[0mself\u001b[0m\u001b[1;33m.\u001b[0m\u001b[0mgates\u001b[0m\u001b[1;33m\u001b[0m\u001b[1;33m\u001b[0m\u001b[0m\n",
      "\u001b[1;31mAttributeError\u001b[0m: 'cQASMParser' object has no attribute 'gate'"
     ]
    }
   ],
   "source": [
    "attempt = cQASMParser()\n",
    "attempt.parse(data2)"
   ]
  },
  {
   "cell_type": "code",
   "execution_count": 344,
   "metadata": {},
   "outputs": [],
   "source": [
    "def parse_command4(c):\n",
    "    gates: List[Gate] = []\n",
    "    name, rest = c.split(\" \",1)\n",
    "    if name in (\"barrier\",\"creg\",\"measure\", \"id\"): return gates\n",
    "    if name in (\"opaque\", \"if\"):\n",
    "        raise TypeError(\"Unsupported operation {}\".format(c))\n",
    "    args = [s.strip() for s in rest.split(\",\") if s.strip()]\n",
    "    print(args)\n"
   ]
  },
  {
   "cell_type": "code",
   "execution_count": 346,
   "metadata": {},
   "outputs": [
    {
     "name": "stdout",
     "output_type": "stream",
     "text": [
      "['2.0;\\ninclude \"qelib1.inc\";\\nqreg a[3];\\t\\ncreg meas[3];\\nx a[0]; // here I am creating a gate\\nx a[1];\\nz a[2];\\nh a[0];\\ncx a[0]', 'a[2];\\nbarrier a[0]', 'a[1]', 'a[2]; // oh look a gate\\nmeasure a[0] -> meas[0];\\nmeasure a[1] -> meas[1];\\nmeasure a[2] -> meas[2]; // wow', 'measurements!']\n"
     ]
    }
   ],
   "source": [
    "parse_command4(data)"
   ]
  },
  {
   "cell_type": "code",
   "execution_count": null,
   "metadata": {},
   "outputs": [],
   "source": []
  }
 ],
 "metadata": {
  "interpreter": {
   "hash": "a79884e4834f91c0f0d15c7cb696c21d631703e5abf58afc10bb48a5532883fa"
  },
  "kernelspec": {
   "display_name": "Python 3.9.7 64-bit",
   "language": "python",
   "name": "python3"
  },
  "language_info": {
   "codemirror_mode": {
    "name": "ipython",
    "version": 3
   },
   "file_extension": ".py",
   "mimetype": "text/x-python",
   "name": "python",
   "nbconvert_exporter": "python",
   "pygments_lexer": "ipython3",
   "version": "3.9.7"
  },
  "orig_nbformat": 4
 },
 "nbformat": 4,
 "nbformat_minor": 2
}
